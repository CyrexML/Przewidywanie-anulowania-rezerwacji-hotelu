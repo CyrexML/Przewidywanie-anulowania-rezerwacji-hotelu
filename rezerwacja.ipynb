{
 "cells": [
  {
   "cell_type": "code",
   "outputs": [],
   "source": [
    "import matplotlib.pyplot as plt\n",
    "import seaborn as sns\n",
    "import pandas as pd\n",
    "from scipy.stats import norm\n",
    "import numpy as np\n",
    "import datetime"
   ],
   "metadata": {
    "collapsed": false
   },
   "id": "3de7acbb57c86e97"
  },
  {
   "cell_type": "markdown",
   "source": [
    "### Wczytywanie danych "
   ],
   "metadata": {
    "collapsed": false
   },
   "id": "42f3a1e61032e3ac"
  },
  {
   "cell_type": "code",
   "outputs": [],
   "source": [
    "df = pd.read_csv('D:/Projektiki/Dannyje/hotel_booking.csv')"
   ],
   "metadata": {
    "collapsed": false
   },
   "id": "b8ef54323165bdda"
  },
  {
   "cell_type": "code",
   "outputs": [],
   "source": [
    "df.head()"
   ],
   "metadata": {
    "collapsed": false
   },
   "id": "253acdb8cc8afcfb"
  },
  {
   "cell_type": "code",
   "outputs": [],
   "source": [
    "df.info()"
   ],
   "metadata": {
    "collapsed": false
   },
   "id": "4b14fba0e1bf58d2"
  },
  {
   "cell_type": "code",
   "outputs": [],
   "source": [
    "df.describe()"
   ],
   "metadata": {
    "collapsed": false
   },
   "id": "31ae422007ad26ef"
  },
  {
   "cell_type": "code",
   "outputs": [],
   "source": [
    "missing_values = df.isnull().sum()\n",
    "print(missing_values[missing_values > 0])"
   ],
   "metadata": {
    "collapsed": false
   },
   "id": "12ba74101639478b"
  },
  {
   "cell_type": "markdown",
   "source": [
    "Przyjrzyjmy się również procentowi brakujących wartości"
   ],
   "metadata": {
    "collapsed": false
   },
   "id": "8effb0015950c592"
  },
  {
   "cell_type": "code",
   "outputs": [],
   "source": [
    "missing_percentage = df.isnull().mean() * 100\n",
    "print(missing_percentage[missing_percentage > 0])\n"
   ],
   "metadata": {
    "collapsed": false
   },
   "id": "7048dea12e2a16c7"
  },
  {
   "cell_type": "markdown",
   "source": [
    "### Analiza pierwotnych danych oraz ich przygotowanie\n",
    "Dane zawierają 36 kolumn i 119390 wpisów\n",
    "\n",
    "* `hotel` -- typ hotelu;\n",
    "* `is_canceled` -- status anulowania (atrybut docelowy);\n",
    "* `lead_time` -- czas przed przyjazdem;\n",
    "* `arrival_date_year`, `arrival_date_month`, `arrival_date_week_number`, `arrival_date_day_of_month` -- data przyjazdu;\n",
    "* `stays_in_weekend_nights`, `stays_in_week_nights` -- liczba noclegów w weekendy i dni powszednie;\n",
    "* `adults`, `children`, `babies` -- liczba osób dorosłych, dzieci i niemowląt;\n",
    "* `meal` -- rodzaj posiłku;\n",
    "* `country` --  kraj klienta;\n",
    "* `market_segment` -- segment rynku;\n",
    "* `distribution_channel` -- kanał dystrybucji;\n",
    "* `is_repeated_guest` -- stały klient;\n",
    "* `previous_cancellations`, `previous_bookings_not_cancled` -- liczba wcześniejszych anulowanych i nieodwołanych rezerwacji;\n",
    "* `reserved_room_type`, `assigned_room_type` -- typ zarezerwowanego i przydzielonego pokoju;\n",
    "* `booking_changes` -- liczba zmian rezerwacji;\n",
    "* `deposit_type` -- typ depozytu;\n",
    "* `agent`, `company` -- identyfikatory agenta i firmy;\n",
    "* `days_in_waiting_list` -- liczba dni na liście oczekujących;\n",
    "* `customer_type` -- typ klienta;\n",
    "* `adr` -- średnia stawka dzienna;\n",
    "* `required_car_parking_spaces` -- liczba wymaganych miejsc parkingowych;\n",
    "* `total_of_special_requests` -- całkowita liczba zamówień specjalnych;\n",
    "* `reservation_status`, `reservation_status_date` -- status rezerwacji i data statusu;\n",
    "\n",
    "##### W niektórych kolumnach istnieją brakujące wartości\n",
    "`children`, `country`, `agent`, `company` trzeba dopełnić brakujące wartości\n",
    "\n",
    "##### Ponadto, aby uprościć proces pracy z danymi, można usunąć niepotrzebne kolumny:\n",
    "`name`, `email`, `phone-number`, `credit_card`\n",
    "\n"
   ],
   "metadata": {
    "collapsed": false
   },
   "id": "694a78fe8c70a67d"
  },
  {
   "cell_type": "code",
   "outputs": [],
   "source": [
    "df['children'].fillna(0, inplace=True)\n",
    "df['country'].fillna('Unknown', inplace=True)\n",
    "df['agent'].fillna(0, inplace=True)\n",
    "df['company'].fillna(0, inplace=True)\n",
    "\n",
    "df = df.drop(columns=['name', 'email', 'phone-number', 'credit_card'])"
   ],
   "metadata": {
    "collapsed": false
   },
   "id": "de3ac99d8e0fa2a2"
  },
  {
   "cell_type": "markdown",
   "source": [
    "Sprawdźmy, czy nie ma duplikatów."
   ],
   "metadata": {
    "collapsed": false
   },
   "id": "b125c0328b7e7e3d"
  },
  {
   "cell_type": "code",
   "outputs": [],
   "source": [
    "len(df[df.duplicated()])"
   ],
   "metadata": {
    "collapsed": false
   },
   "id": "20da98b090948973"
  },
  {
   "cell_type": "markdown",
   "source": [
    "Usuniemy duplikaty"
   ],
   "metadata": {
    "collapsed": false
   },
   "id": "7c2674d7cbc7ca5e"
  },
  {
   "cell_type": "code",
   "outputs": [],
   "source": [
    "df = df.drop_duplicates()"
   ],
   "metadata": {
    "collapsed": false
   },
   "id": "47ca7d6d25e7c59e"
  },
  {
   "cell_type": "code",
   "outputs": [],
   "source": [
    "df['is_canceled'] = df['is_canceled'].astype(bool)\n",
    "df['is_repeated_guest'] = df['is_repeated_guest'].astype(bool)"
   ],
   "metadata": {
    "collapsed": false
   },
   "id": "17bde8ea5a0f7da7"
  },
  {
   "cell_type": "markdown",
   "source": [
    "Konwertowanie nazw miesięcy na wartości liczbowe"
   ],
   "metadata": {
    "collapsed": false
   },
   "id": "c8a3ae2a4086ff68"
  },
  {
   "cell_type": "code",
   "outputs": [],
   "source": [
    "df['arrival_date_month'] = df['arrival_date_month'].map({'January': 1, 'February': 2, 'March': 3, 'April': 4, 'May': 5, 'June': 6, 'July': 7,'August': 8, 'September': 9, 'October': 10, 'November': 11, 'December': 12})\n",
    "     "
   ],
   "metadata": {
    "collapsed": false
   },
   "id": "fc561c3b36883bf7"
  },
  {
   "cell_type": "code",
   "outputs": [],
   "source": [
    "df['reservation_status_date'] = pd.to_datetime(df['reservation_status_date'])"
   ],
   "metadata": {
    "collapsed": false
   },
   "id": "f0f941bb72c7628c"
  },
  {
   "cell_type": "markdown",
   "source": [
    "Zmienimy typ danych dla kolumny `children`"
   ],
   "metadata": {
    "collapsed": false
   },
   "id": "40e20f054ac57f85"
  },
  {
   "cell_type": "code",
   "outputs": [],
   "source": [
    "df[['children']] = df[['children']].astype('int')"
   ],
   "metadata": {
    "collapsed": false
   },
   "id": "d036b5ec51541b5b"
  },
  {
   "cell_type": "markdown",
   "source": [
    "### EDA"
   ],
   "metadata": {
    "collapsed": false
   },
   "id": "cd2456102cca2cb1"
  },
  {
   "cell_type": "code",
   "outputs": [],
   "source": [
    "plt.figure(figsize=(8, 6))\n",
    "sns.countplot(x='is_canceled', hue='is_canceled', data=df, palette=\"Set2\")\n",
    "plt.title('Rozkład zmiennej docelowej (is_canceled)')\n",
    "plt.show()\n",
    "\n",
    "cancel_rate = df['is_canceled'].mean() * 100\n",
    "print(f\"Procent anulowanych rezerwacji: {cancel_rate:.2f}%\")"
   ],
   "metadata": {
    "collapsed": false
   },
   "id": "c1611bf21565f469"
  },
  {
   "cell_type": "markdown",
   "source": [
    "Widzimy wyraźny brak równowagi klas w kolumnie `is_canceled` "
   ],
   "metadata": {
    "collapsed": false
   },
   "id": "2df30544ad598f2"
  },
  {
   "cell_type": "markdown",
   "source": [
    "*Przyjrzyjmy się rezerwacjom w różnych typach hoteli*"
   ],
   "metadata": {
    "collapsed": false
   },
   "id": "966b5136f7c1bf7b"
  },
  {
   "cell_type": "code",
   "outputs": [],
   "source": [
    "plt.figure(figsize=(12, 6))  \n",
    "\n",
    "ax1 = sns.countplot(x='hotel', hue='is_canceled', data=df, palette=\"Set2\")\n",
    "\n",
    "ax1.legend(bbox_to_anchor=(1, 1), title=\"Status rezerwacji\")\n",
    "\n",
    "plt.title('Status rezerwacji w różnych hotelach', size=20)\n",
    "plt.xlabel('Hotel', fontsize=16)\n",
    "plt.ylabel('Liczba rezerwacji', fontsize=16)\n",
    "plt.legend(['Nie anulowanа', 'Anulowana'], title='Status rezerwacji', fontsize=12)\n",
    "plt.show()"
   ],
   "metadata": {
    "collapsed": false
   },
   "id": "b96402f2e7590eeb"
  },
  {
   "cell_type": "markdown",
   "source": [
    "================================"
   ],
   "metadata": {
    "collapsed": false
   },
   "id": "be3bfcb31d5abd9f"
  },
  {
   "cell_type": "code",
   "outputs": [],
   "source": [
    "df['month']=df['reservation_status_date'].dt.month\n",
    "ax1 = sns.countplot(x='month', hue='is_canceled', data= df, palette = 'Set2')\n",
    "legend_lebels,_ = ax1.get_legend_handles_labels()\n",
    "plt.title('Rezerwacja/miesiąć', size = 20)\n",
    "plt.xlabel('miesiąc')\n",
    "plt.ylabel('Liczba rezerwacji')\n",
    "plt.legend(['Nie anulowanа','Anulowana'], title='Status rezerwacji')\n",
    "plt.show()"
   ],
   "metadata": {
    "collapsed": false
   },
   "id": "b57fd3af1a9f1bb6"
  },
  {
   "cell_type": "markdown",
   "source": [
    "#### Macierz korelacji cech numerycznych"
   ],
   "metadata": {
    "collapsed": false
   },
   "id": "cff461a23e118b50"
  },
  {
   "cell_type": "code",
   "outputs": [],
   "source": [
    "numeric_df = df.select_dtypes(include='number')\n",
    "corr_matrix = numeric_df.corr()\n",
    "plt.figure(figsize=(15, 10))\n",
    "sns.heatmap(corr_matrix, cmap=\"Greens\", annot=True, fmt=\".1f\")\n",
    "plt.title('Macierz korelacji cech numerycznych')\n",
    "plt.show()"
   ],
   "metadata": {
    "collapsed": false
   },
   "id": "5d289188b7a3ea05"
  },
  {
   "cell_type": "markdown",
   "source": [
    "================================"
   ],
   "metadata": {
    "collapsed": false
   },
   "id": "bc1100926f1a6881"
  },
  {
   "cell_type": "code",
   "outputs": [],
   "source": [
    "sns.set(style=\"whitegrid\")\n",
    "\n",
    "plt.figure(figsize=(12, 9))\n",
    "sns.countplot(x='arrival_date_year', hue='is_canceled', data=df, palette = 'Set2')\n",
    "\n",
    "plt.title('arrival_date_year distribution')\n",
    "plt.xlabel('Years')\n",
    "plt.ylabel('Quantity')\n",
    "\n",
    "plt.show()"
   ],
   "metadata": {
    "collapsed": false
   },
   "id": "91253e86fcf2d7b0"
  },
  {
   "cell_type": "code",
   "outputs": [],
   "source": [
    "print(df['adults'].value_counts())\n",
    "print(df['children'].value_counts()) \n",
    "print(df['babies'].value_counts())"
   ],
   "metadata": {
    "collapsed": false
   },
   "id": "d5bd52e5c12c1a64"
  },
  {
   "cell_type": "markdown",
   "source": [
    "Najczęściej rezerwowany jest pokój dla 2 osób dorosłych."
   ],
   "metadata": {
    "collapsed": false
   },
   "id": "9511926850eb89d0"
  },
  {
   "cell_type": "code",
   "outputs": [],
   "source": [
    "mu = df['arrival_date_week_number'].mean()\n",
    "std = df['arrival_date_week_number'].std()\n",
    "\n",
    "plt.figure(figsize=(12, 9))\n",
    "sns.histplot(df['arrival_date_week_number'], bins=20, color='darkgreen', kde=False)\n",
    "\n",
    "xmin, xmax = plt.xlim()\n",
    "x = np.linspace(xmin, xmax, 100)\n",
    "p = norm.pdf(x, mu, std)\n",
    "plt.plot(x, p * len(df['arrival_date_week_number']) * (xmax - xmin) / 20, 'r--', linewidth=2)\n",
    "\n",
    "plt.show()\n"
   ],
   "metadata": {
    "collapsed": false
   },
   "id": "4be47403551ef9ff"
  },
  {
   "cell_type": "markdown",
   "source": [
    "Dane w kolumnie `arrival_date_week_number` mają prawie normalny rozkład."
   ],
   "metadata": {
    "collapsed": false
   },
   "id": "88a19660e9630e5b"
  },
  {
   "cell_type": "code",
   "outputs": [],
   "source": [
    "mu = df['booking_changes'].mean()\n",
    "std = df['booking_changes'].std()\n",
    "\n",
    "# Построить гистограмму данных\n",
    "plt.figure(figsize=(12, 9))\n",
    "sns.histplot(df['booking_changes'], color='darkgreen', kde=False)\n",
    "\n",
    "# Добавить нормальное распределение\n",
    "xmin, xmax = plt.xlim()\n",
    "x = np.linspace(xmin, xmax, 100)\n",
    "p = norm.pdf(x, mu, std)\n",
    "plt.plot(x, p * len(df['booking_changes']) * (xmax - xmin) / 20, 'r--', linewidth=2)\n",
    "\n",
    "\n",
    "plt.title('booking_changes distribution', fontsize=16)\n",
    "plt.xlabel('Liczba zmian rezerwacji', fontsize=14)\n",
    "plt.xticks(fontsize=12)\n",
    "plt.grid(True)\n",
    "\n",
    "plt.show()\n"
   ],
   "metadata": {
    "collapsed": false
   },
   "id": "4b6b1b3475e98d48"
  },
  {
   "cell_type": "markdown",
   "source": [
    "W kolumnie `booking_changes` widzimy rozkład wykładniczy"
   ],
   "metadata": {
    "collapsed": false
   },
   "id": "8aadcb05a5c8cf87"
  },
  {
   "cell_type": "markdown",
   "source": [
    "##### Analiza krajów przybycia \n",
    "Istnieje wiele krajów z niewielką liczbą odwiedzin w kolumnie `country`, więc zachowajmy 12 krajów i przypiszmy wartość \"inne\" pozostałym."
   ],
   "metadata": {
    "collapsed": false
   },
   "id": "fda37825381db905"
  },
  {
   "cell_type": "markdown",
   "source": [],
   "metadata": {
    "collapsed": false
   },
   "id": "184b2526229b5b3a"
  },
  {
   "cell_type": "code",
   "outputs": [],
   "source": [
    "countries = ['PRT', 'FRA', 'GBR', 'ESP', 'DEU', 'ITA', 'IRL', 'BEL', 'BRA', 'NLD', 'USA', 'CHE']\n",
    "df['country'] = df['country'].apply(lambda x: 'others' if x not in countries else x)\n",
    "\n",
    "\n",
    "total_orders = df['country'].value_counts()\n",
    "canceled_orders = df[df['is_canceled'] == 1]['country'].value_counts()\n",
    "\n",
    "\n",
    "df_stacked = pd.DataFrame({\n",
    "    'Łączna liczba rezerwacji': total_orders,\n",
    "    'Anulowane rezerwacji': canceled_orders\n",
    "}).fillna(0)\n",
    "\n",
    "\n",
    "df_stacked.plot(kind='bar', stacked=True, figsize=(12, 9), color=['darkgreen', 'darkred'], alpha=0.9)\n",
    "plt.title('Rezerwacji ogółem i anulowane według kraju', fontsize=16)\n",
    "plt.xlabel('Kraje', fontsize=14)\n",
    "plt.ylabel('Liczba', fontsize=14)\n",
    "plt.xticks(rotation=45, fontsize=12)\n",
    "plt.yticks(fontsize=12)\n",
    "plt.legend(title='Status rezerwacji', fontsize=12)\n",
    "plt.grid(axis='y', linestyle='--', linewidth=0.7)\n",
    "\n",
    "plt.show()"
   ],
   "metadata": {
    "collapsed": false
   },
   "id": "d005674c08f8df8e"
  },
  {
   "cell_type": "markdown",
   "source": [
    "Widać, że więcej rezerwacji pochodzi od klientów z Portugalii. Dlatego więcej anulowanych rezerwacji również pochodzi od portugalskich klientów."
   ],
   "metadata": {
    "collapsed": false
   },
   "id": "c2efb69488d6d461"
  }
 ],
 "metadata": {
  "kernelspec": {
   "display_name": "Python 3 (ipykernel)",
   "language": "python",
   "name": "python3"
  },
  "language_info": {
   "codemirror_mode": {
    "name": "ipython",
    "version": 3
   },
   "file_extension": ".py",
   "mimetype": "text/x-python",
   "name": "python",
   "nbconvert_exporter": "python",
   "pygments_lexer": "ipython3",
   "version": "3.10.11"
  }
 },
 "nbformat": 4,
 "nbformat_minor": 5
}
